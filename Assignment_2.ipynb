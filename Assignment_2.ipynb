{
 "cells": [
  {
   "cell_type": "markdown",
   "id": "f067f2a8",
   "metadata": {},
   "source": [
    "Q1. What is the relationship between classes and modules?\n",
    "Ans: Modules are files present inside a package, whereas a class is used to encapsulate data and functions together inside the same unit.\n",
    "Classes are blueprints of objects which contain members like fields and methods. Module introduces the definition related to properties, events, variables and procedures of its members. Modules cannot be instantiated like classes.\n",
    "\n",
    "\n",
    "\n",
    "\n",
    "Q2. How do you make instances and classes?\n",
    "Ans: To create instances of a class, you call the class using class name and pass in whatever arguments its __init__ method accepts.\n",
    "\n",
    "\n",
    "\n",
    "Q3. Where and how should be class attributes created?\n",
    "Ans: Class attributes are attributes which are owned by the class itself. They will be shared by all the instances of the class. Therefore they have the same value for every instance. We define class attributes outside all the methods, usually they are placed at the top, right below the class header.\n",
    "\n",
    "class A:\n",
    "    a = \"I am a class attribute!\"\n",
    "x = A()\n",
    "y = A()\n",
    "x.a\n",
    "\n",
    "\n",
    "\n",
    "\n",
    "Q4. Where and how are instance attributes created?\n",
    "Ans : Defined inside a constructor using the self parameter.\n",
    "\n",
    "class A:\n",
    "    count = 0\n",
    "    def __init__(self):\n",
    "        A.count += 1\n",
    "\n",
    "\n",
    "\n",
    "Q5. What does the term \"self\" in a Python class mean?\n",
    "Ans: self represents the instance of the class. By using the “self” we can access the attributes and methods of the class in python. It binds the attributes with the given arguments.\n",
    "\n",
    "\n",
    "\n",
    "\n",
    "Q6. How does a Python class handle operator overloading?\n",
    "Ans: Operator Overloading means giving extended meaning beyond their predefined operational meaning. For example operator + is used to add two integers as well as join two strings and merge two lists. It is achievable because '+' operator is overloaded by int class and str class.\n",
    "\n",
    "\n",
    "\n",
    "Q7. When do you consider allowing operator overloading of your classes?\n",
    "Ans: Consider that we have two objects which are a physical representation of a class (user-defined data type) and we have to add two objects with binary '+' operator it throws an error, because compiler don't know how to add two objects. So we define a method for an operator and that process is called operator overloading.\n",
    "\n",
    "\n",
    "\n",
    "Q8. What is the most popular form of operator overloading?\n",
    "Ans: A very popular and convenient example is the Addition (+) operator. Just think how the '+' operator operates on two numbers and the same operator operates on two strings. It performs “Addition” on numbers whereas it performs “Concatenation” on strings. \n",
    "\n",
    "\n",
    "\n",
    "Q9. What are the two most important concepts to grasp in order to comprehend Python OOP code?\n",
    "Ans: Two key concepts of OOP which are inheritance and polymorphism. Both inheritance and polymorphism are key ingredients for designing robust, flexible, and easy-to-maintain software."
   ]
  }
 ],
 "metadata": {
  "kernelspec": {
   "display_name": "Python 3 (ipykernel)",
   "language": "python",
   "name": "python3"
  },
  "language_info": {
   "codemirror_mode": {
    "name": "ipython",
    "version": 3
   },
   "file_extension": ".py",
   "mimetype": "text/x-python",
   "name": "python",
   "nbconvert_exporter": "python",
   "pygments_lexer": "ipython3",
   "version": "3.9.7"
  }
 },
 "nbformat": 4,
 "nbformat_minor": 5
}
