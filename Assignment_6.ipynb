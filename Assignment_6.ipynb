{
 "cells": [
  {
   "cell_type": "markdown",
   "id": "172375ca",
   "metadata": {},
   "source": [
    "Q1. Describe three applications for exception processing.\n",
    "Ans:  \n",
    "1.you provide a web form for users to fill in and submit.but incase there are a lot of conditions to be handled and the conditions keeps changing periodically,you use exception handling to simplify the process\n",
    "2.database connectivity uses exception handling(why???) this is because the reason for database connectivity failure cannot be predicted and handled as it can be caused by many variables such as power failure, unreachable server,failure at client front/back end and so on.\n",
    "3.arithmetic exceptions such as division by zero and so on.\n",
    "4.operating systems use exception handling to resolve deadlocks,recover from crash and so forth\n",
    "\n",
    "\n",
    "\n",
    "\n",
    "Q2. What happens if you don't do something extra to treat an exception?\n",
    "Ans: When an exception occurred, if you don't handle it, the program terminates abruptly and the code past the line that caused the exception will not get executed.\n",
    "\n",
    "\n",
    "\n",
    "Q3. What are your options for recovering from an exception in your script?\n",
    "Ans: Try and Except Statement - Catching Exceptions. We catch exceptions and handle them using try and except code blocks. The try clause contains the code that can raise an exception, while the except clause contains the code lines that handle the exception.\n",
    "\n",
    "\n",
    "\n",
    "\n",
    "Q4. Describe two methods for triggering exceptions in your script.\n",
    "Ans: Try – This method catches the exceptions raised by the program. Raise – Triggers an exception manually using custom exceptions.\n",
    "\n",
    "\n",
    "\n",
    "Q5. Identify two methods for specifying actions to be executed at termination time, regardless of whether or not an exception exists.\n",
    "Ans: Finally block always executes irrespective of an exception being thrown or not. The final keyword allows you to create a block of code that follows a try-catch block.\n",
    "\n",
    "example 1:\n",
    "try:\n",
    "    a = 5/8\n",
    "except ArithmeticError:\n",
    "    print(\"got exception\")\n",
    "else:\n",
    "    print(\"This will execute once try block is executed\")\n",
    "    \n",
    "example 2:\n",
    "try:\n",
    "    f = open(\"abc.txt\", 'r')\n",
    "finally:\n",
    "    print(\"I will execute in any case\")\n",
    "    l = [1,3,5,6,6]\n",
    "    print(l[30])"
   ]
  }
 ],
 "metadata": {
  "kernelspec": {
   "display_name": "Python 3 (ipykernel)",
   "language": "python",
   "name": "python3"
  },
  "language_info": {
   "codemirror_mode": {
    "name": "ipython",
    "version": 3
   },
   "file_extension": ".py",
   "mimetype": "text/x-python",
   "name": "python",
   "nbconvert_exporter": "python",
   "pygments_lexer": "ipython3",
   "version": "3.9.7"
  }
 },
 "nbformat": 4,
 "nbformat_minor": 5
}
