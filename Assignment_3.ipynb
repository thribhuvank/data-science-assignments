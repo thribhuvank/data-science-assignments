{
 "cells": [
  {
   "cell_type": "markdown",
   "id": "3a14a6b8",
   "metadata": {},
   "source": [
    "1. What is the concept of an abstract superclass?\n",
    "Ans: An abstract superclass is one way to provide re-usable code. You can extend the abstract class and inherit the code. This is sometimes more convenient than using static methods or object composition to share code. The abstract class can \"fix\" parts of the code (by making it final).\n",
    "\n",
    "\n",
    "\n",
    "2. What happens when a class statement's top level contains a basic assignment statement?\n",
    "Ans: Top-level definitions and statements form the actual functional content of source files.\n",
    "\n",
    "defs :: (def br)*\n",
    "def :: statement | [ \"private\" ] (var-def | function-def | class-def)\n",
    "\n",
    "\n",
    "Top-level definitions include variable (and constant), function and class definitions. They may be marked private by prefixing them with the private keyword. Private definitions are only visible in the module that defines them. Definitions that are not private are public. The top-level may also include statements.\n",
    "\n",
    "As an exception, a function named Main is always private even if the definition is not prefixed with private.\n",
    "\n",
    "\n",
    "\n",
    "\n",
    "\n",
    "3. Why does a class need to manually call a superclass's __init__ method?\n",
    "Ans: The main reason for always calling base class _init__ is that base class may typically create member variable and initialize them to defaults. So if you don't call base class init, none of that code would be executed and you would end up with base class that has no member variables.\n",
    "\n",
    "\n",
    "\n",
    "4. How can you augment, instead of completely replacing, an inherited method?\n",
    "Ans: A more sophisticated way to augment an inherited method involves forwarding. Message forwarding allows you to augment an inherited method in such a way that it can perform its inherited action and some new action.\n",
    "\n",
    "\n",
    "\n",
    "5. How is the local scope of a class different from that of a function?\n",
    "Ans: Variables defined outside a function are […] called global variables.\n",
    "     Variables defined within a function are local variables.\n",
    "\n"
   ]
  }
 ],
 "metadata": {
  "kernelspec": {
   "display_name": "Python 3 (ipykernel)",
   "language": "python",
   "name": "python3"
  },
  "language_info": {
   "codemirror_mode": {
    "name": "ipython",
    "version": 3
   },
   "file_extension": ".py",
   "mimetype": "text/x-python",
   "name": "python",
   "nbconvert_exporter": "python",
   "pygments_lexer": "ipython3",
   "version": "3.9.7"
  }
 },
 "nbformat": 4,
 "nbformat_minor": 5
}
