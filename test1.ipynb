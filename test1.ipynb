{
 "cells": [
  {
   "cell_type": "markdown",
   "id": "ea859ef5",
   "metadata": {},
   "source": [
    "1. In the below elements which of them are values or an expression? eg:- values can be integer or string and expressions will be mathematical operators.\n",
    "* \n",
    "'hello'\n",
    "-87.8\n",
    "- \n",
    "/ \n",
    "\n",
    "6 \n",
    "\n",
    "Ans : Values = 'hello', -87.8, 6\n",
    "      Expressions = *, -, /\n",
    "      \n",
    "      \n",
    "2. What is the difference between string and variable?\n",
    "Ans: Strings are data, so we can use them to fill up a variable\n",
    "     Variables are symbols that you can use to store data in a program\n",
    "     A Variable is a store of information, and a String is a type of information you would store in a Variable. \n",
    "     A String is usually words, enclosed with \"\" Eg String x =\"Welcome to SoloLearn\" X is the Variable, and we declared it as a String, use the single = to assign the text to it\n",
    " \n",
    "\n",
    "3. Describe three different data types.\n",
    "  Ans:\n",
    "  Python has six standard Data Types: Numbers, String, List, Tuple, Set, Dictionary\n",
    "  \n",
    "  List : A list can contain a series of values. List variables are declared by using brackets [ ]. A list is mutable, which means we can modify the list\n",
    "      Ex: List = [2,4,5.5,\"Hi]\n",
    "      \n",
    "  Tuple : A tuple is a sequence of Python objects separated by commas. Tuples are immutable, which means tuples once created cannot be modified. Tuples are defined using parentheses ().\n",
    "      Ex: Tuple = (50,15,25.6,\"Python\")\n",
    "      \n",
    "  Set : A set is an unordered collection of items. Set is defined by values separated by a comma inside braces { }.\n",
    "      Ex: Set = {5,1,2.6,\"python\"}\n",
    "      \n",
    "  Dictionary : Dictionaries items are stored and fetched by using the key. Dictionaries are used to store a huge amount of data. To retrieve the value we must know the key. In Python, dictionaries are defined within braces {}.\n",
    "      Ex: Dict = {1:'Hi',2:7.5, 3:'Class'}\n",
    "      \n",
    "\n",
    "4. What is an expression made up of? What do all expressions do?\n",
    " Ans: An expression is a construct made up of variables, operators, and method invocations, which are constructed according to the syntax of the language, that evaluates to a single value.\n",
    "      \n",
    "      \n",
    "5. This assignment statements, like spam = 10. What is the difference between an expression and a statement?\n",
    "Ans : An expression evaluates to a single value. A statement does not.\n",
    "\n",
    "\n",
    "6. After running the following code, what does the variable bacon contain?\n",
    "bacon = 22\n",
    "bacon + 1\n",
    "Ans : 23\n",
    "\n",
    "7. What should the values of the following two terms be?\n",
    "'spam' + 'spamspam'\n",
    "'spam' * 3\n",
    "Ans : 'spamspamspam'\n",
    "\n",
    "\n",
    "8. Why is eggs a valid variable name while 100 is invalid?\n",
    "Ans : Variable names cannot begin with a number\n",
    "\n",
    "\n",
    "9. What three functions can be used to get the integer, floating-point number, or string version of a value?\n",
    "Ans : The int(), float(), and str() functions will evaluate to the integer, floating-point number, and string versions of the value passed to them.\n",
    "\n",
    "\n",
    "10. Why does this expression cause an error? How can you fix it?\n",
    "'I have eaten ' + 99 + ' burritos.'\n",
    "Ans: The expression causes an error because 99 is an integer, and only strings can be concatenated to other strings with the + operator. The correct way is I have eaten ' + str(99) + ' burritos.'."
   ]
  },
  {
   "cell_type": "markdown",
   "id": "cf4f3459",
   "metadata": {},
   "source": [
    "1. In the below elements which of them are values or an expression? eg:- values can be integer or string and expressions will be mathematical operators.\n",
    "* \n",
    "'hello'\n",
    "-87.8\n",
    "- \n",
    "/ \n",
    "\n",
    "6 \n",
    "\n",
    "Ans : Values = 'hello', -87.8, 6\n",
    "      Expressions = *, -, /\n",
    "      "
   ]
  },
  {
   "cell_type": "markdown",
   "id": "bf0bbcf6",
   "metadata": {},
   "source": [
    "2. What is the difference between string and variable?\n",
    "Ans: Strings are data, so we can use them to fill up a variable\n",
    "     Variables are symbols that you can use to store data in a program\n",
    "     A Variable is a store of information, and a String is a type of information you would store in a Variable. \n",
    "     A String is usually words, enclosed with \"\" Eg String x =\"Welcome to SoloLearn\" X is the Variable, and we declared it as a String, use the single = to assign the text to it\n",
    " "
   ]
  },
  {
   "cell_type": "markdown",
   "id": "e8626bb8",
   "metadata": {},
   "source": [
    "3. Describe three different data types.\n",
    "  Ans:\n",
    "  Python has six standard Data Types: Numbers, String, List, Tuple, Set, Dictionary\n",
    "  \n",
    "  List : A list can contain a series of values. List variables are declared by using brackets [ ]. A list is mutable, which means we can modify the list\n",
    "      Ex: List = [2,4,5.5,\"Hi]\n",
    "      \n",
    "  Tuple : A tuple is a sequence of Python objects separated by commas. Tuples are immutable, which means tuples once created cannot be modified. Tuples are defined using parentheses ().\n",
    "      Ex: Tuple = (50,15,25.6,\"Python\")\n",
    "      \n",
    "  Set : A set is an unordered collection of items. Set is defined by values separated by a comma inside braces { }.\n",
    "      Ex: Set = {5,1,2.6,\"python\"}\n",
    "      \n",
    "  Dictionary : Dictionaries items are stored and fetched by using the key. Dictionaries are used to store a huge amount of data. To retrieve the value we must know the key. In Python, dictionaries are defined within braces {}.\n",
    "      Ex: Dict = {1:'Hi',2:7.5, 3:'Class'}\n",
    "      \n",
    "\n"
   ]
  },
  {
   "cell_type": "markdown",
   "id": "986404a1",
   "metadata": {},
   "source": [
    "4. What is an expression made up of? What do all expressions do?\n",
    " Ans: An expression is a construct made up of variables, operators, and method invocations, which are constructed according to the syntax of the language, that evaluates to a single value.\n",
    "      \n",
    "      \n"
   ]
  },
  {
   "cell_type": "markdown",
   "id": "57a49e39",
   "metadata": {},
   "source": [
    "5. This assignment statements, like spam = 10. What is the difference between an expression and a statement?\n",
    "Ans : An expression evaluates to a single value. A statement does not.\n",
    "\n",
    "\n"
   ]
  },
  {
   "cell_type": "markdown",
   "id": "ca676678",
   "metadata": {},
   "source": [
    "6. After running the following code, what does the variable bacon contain?\n",
    "bacon = 22\n",
    "bacon + 1\n",
    "Ans : 23\n",
    "\n"
   ]
  },
  {
   "cell_type": "markdown",
   "id": "7e908f86",
   "metadata": {},
   "source": [
    "7. What should the values of the following two terms be?\n",
    "'spam' + 'spamspam'\n",
    "'spam' * 3\n",
    "Ans : 'spamspamspam'\n",
    "\n",
    "\n"
   ]
  },
  {
   "cell_type": "markdown",
   "id": "22435b5d",
   "metadata": {},
   "source": [
    "8. Why is eggs a valid variable name while 100 is invalid?\n",
    "Ans : Variable names cannot begin with a number\n",
    "\n",
    "\n"
   ]
  },
  {
   "cell_type": "markdown",
   "id": "f912db3b",
   "metadata": {},
   "source": [
    "9. What three functions can be used to get the integer, floating-point number, or string version of a value?\n",
    "Ans : The int(), float(), and str() functions will evaluate to the integer, floating-point number, and string versions of the value passed to them.\n",
    "\n",
    "\n"
   ]
  },
  {
   "cell_type": "markdown",
   "id": "ea7eff5d",
   "metadata": {},
   "source": [
    "10. Why does this expression cause an error? How can you fix it?\n",
    "'I have eaten ' + 99 + ' burritos.'\n",
    "Ans: The expression causes an error because 99 is an integer, and only strings can be concatenated to other strings with the + operator. The correct way is I have eaten ' + str(99) + ' burritos.'."
   ]
  }
 ],
 "metadata": {
  "kernelspec": {
   "display_name": "Python 3 (ipykernel)",
   "language": "python",
   "name": "python3"
  },
  "language_info": {
   "codemirror_mode": {
    "name": "ipython",
    "version": 3
   },
   "file_extension": ".py",
   "mimetype": "text/x-python",
   "name": "python",
   "nbconvert_exporter": "python",
   "pygments_lexer": "ipython3",
   "version": "3.9.7"
  }
 },
 "nbformat": 4,
 "nbformat_minor": 5
}
